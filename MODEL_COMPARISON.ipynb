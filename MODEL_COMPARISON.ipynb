{
  "nbformat": 4,
  "nbformat_minor": 0,
  "metadata": {
    "colab": {
      "provenance": []
    },
    "kernelspec": {
      "name": "python3",
      "display_name": "Python 3"
    },
    "language_info": {
      "name": "python"
    }
  },
  "cells": [
    {
      "cell_type": "code",
      "execution_count": null,
      "metadata": {
        "colab": {
          "base_uri": "https://localhost:8080/"
        },
        "id": "e8WSwDAhYy3I",
        "outputId": "27cca313-8f58-49b7-c7fa-b44ba816f791"
      },
      "outputs": [
        {
          "output_type": "stream",
          "name": "stderr",
          "text": [
            "<ipython-input-7-8c1cfbff24f6>:41: SettingWithCopyWarning: \n",
            "A value is trying to be set on a copy of a slice from a DataFrame.\n",
            "Try using .loc[row_indexer,col_indexer] = value instead\n",
            "\n",
            "See the caveats in the documentation: https://pandas.pydata.org/pandas-docs/stable/user_guide/indexing.html#returning-a-view-versus-a-copy\n",
            "  data['InvoiceDate'] = pd.to_datetime(data['InvoiceDate'], errors='coerce')\n",
            "<ipython-input-7-8c1cfbff24f6>:42: SettingWithCopyWarning: \n",
            "A value is trying to be set on a copy of a slice from a DataFrame\n",
            "\n",
            "See the caveats in the documentation: https://pandas.pydata.org/pandas-docs/stable/user_guide/indexing.html#returning-a-view-versus-a-copy\n",
            "  data.dropna(subset=['InvoiceDate', 'Quantity', 'Price'], inplace=True)\n",
            "/usr/local/lib/python3.10/dist-packages/statsmodels/tsa/statespace/sarimax.py:966: UserWarning: Non-stationary starting autoregressive parameters found. Using zeros as starting parameters.\n",
            "  warn('Non-stationary starting autoregressive parameters'\n",
            "/usr/local/lib/python3.10/dist-packages/statsmodels/base/model.py:607: ConvergenceWarning: Maximum Likelihood optimization failed to converge. Check mle_retvals\n",
            "  warnings.warn(\"Maximum Likelihood optimization failed to \"\n",
            "<ipython-input-7-8c1cfbff24f6>:58: FutureWarning: The behavior of DataFrame concatenation with empty or all-NA entries is deprecated. In a future version, this will no longer exclude empty or all-NA columns when determining the result dtypes. To retain the old behavior, exclude the relevant entries before the concat operation.\n",
            "  results = pd.concat([results, pd.DataFrame({'StockCode': [stock_code], 'Model': ['ARIMA'], 'RMSE': [rmse_arima], 'MAE': [mae_arima]})], ignore_index=True)\n",
            "/usr/local/lib/python3.10/dist-packages/keras/src/layers/rnn/rnn.py:204: UserWarning: Do not pass an `input_shape`/`input_dim` argument to a layer. When using Sequential models, prefer using an `Input(shape)` object as the first layer in the model instead.\n",
            "  super().__init__(**kwargs)\n"
          ]
        },
        {
          "output_type": "stream",
          "name": "stdout",
          "text": [
            "\u001b[1m1/1\u001b[0m \u001b[32m━━━━━━━━━━━━━━━━━━━━\u001b[0m\u001b[37m\u001b[0m \u001b[1m0s\u001b[0m 241ms/step\n"
          ]
        },
        {
          "output_type": "stream",
          "name": "stderr",
          "text": [
            "<ipython-input-7-8c1cfbff24f6>:41: SettingWithCopyWarning: \n",
            "A value is trying to be set on a copy of a slice from a DataFrame.\n",
            "Try using .loc[row_indexer,col_indexer] = value instead\n",
            "\n",
            "See the caveats in the documentation: https://pandas.pydata.org/pandas-docs/stable/user_guide/indexing.html#returning-a-view-versus-a-copy\n",
            "  data['InvoiceDate'] = pd.to_datetime(data['InvoiceDate'], errors='coerce')\n",
            "<ipython-input-7-8c1cfbff24f6>:42: SettingWithCopyWarning: \n",
            "A value is trying to be set on a copy of a slice from a DataFrame\n",
            "\n",
            "See the caveats in the documentation: https://pandas.pydata.org/pandas-docs/stable/user_guide/indexing.html#returning-a-view-versus-a-copy\n",
            "  data.dropna(subset=['InvoiceDate', 'Quantity', 'Price'], inplace=True)\n",
            "/usr/local/lib/python3.10/dist-packages/statsmodels/base/model.py:607: ConvergenceWarning: Maximum Likelihood optimization failed to converge. Check mle_retvals\n",
            "  warnings.warn(\"Maximum Likelihood optimization failed to \"\n",
            "/usr/local/lib/python3.10/dist-packages/keras/src/layers/rnn/rnn.py:204: UserWarning: Do not pass an `input_shape`/`input_dim` argument to a layer. When using Sequential models, prefer using an `Input(shape)` object as the first layer in the model instead.\n",
            "  super().__init__(**kwargs)\n"
          ]
        },
        {
          "output_type": "stream",
          "name": "stdout",
          "text": [
            "\u001b[1m1/1\u001b[0m \u001b[32m━━━━━━━━━━━━━━━━━━━━\u001b[0m\u001b[37m\u001b[0m \u001b[1m0s\u001b[0m 239ms/step\n"
          ]
        },
        {
          "output_type": "stream",
          "name": "stderr",
          "text": [
            "<ipython-input-7-8c1cfbff24f6>:41: SettingWithCopyWarning: \n",
            "A value is trying to be set on a copy of a slice from a DataFrame.\n",
            "Try using .loc[row_indexer,col_indexer] = value instead\n",
            "\n",
            "See the caveats in the documentation: https://pandas.pydata.org/pandas-docs/stable/user_guide/indexing.html#returning-a-view-versus-a-copy\n",
            "  data['InvoiceDate'] = pd.to_datetime(data['InvoiceDate'], errors='coerce')\n",
            "<ipython-input-7-8c1cfbff24f6>:42: SettingWithCopyWarning: \n",
            "A value is trying to be set on a copy of a slice from a DataFrame\n",
            "\n",
            "See the caveats in the documentation: https://pandas.pydata.org/pandas-docs/stable/user_guide/indexing.html#returning-a-view-versus-a-copy\n",
            "  data.dropna(subset=['InvoiceDate', 'Quantity', 'Price'], inplace=True)\n",
            "/usr/local/lib/python3.10/dist-packages/statsmodels/tsa/statespace/sarimax.py:966: UserWarning: Non-stationary starting autoregressive parameters found. Using zeros as starting parameters.\n",
            "  warn('Non-stationary starting autoregressive parameters'\n",
            "/usr/local/lib/python3.10/dist-packages/keras/src/layers/rnn/rnn.py:204: UserWarning: Do not pass an `input_shape`/`input_dim` argument to a layer. When using Sequential models, prefer using an `Input(shape)` object as the first layer in the model instead.\n",
            "  super().__init__(**kwargs)\n"
          ]
        },
        {
          "output_type": "stream",
          "name": "stdout",
          "text": [
            "\u001b[1m1/1\u001b[0m \u001b[32m━━━━━━━━━━━━━━━━━━━━\u001b[0m\u001b[37m\u001b[0m \u001b[1m0s\u001b[0m 242ms/step\n"
          ]
        },
        {
          "output_type": "stream",
          "name": "stderr",
          "text": [
            "<ipython-input-7-8c1cfbff24f6>:41: SettingWithCopyWarning: \n",
            "A value is trying to be set on a copy of a slice from a DataFrame.\n",
            "Try using .loc[row_indexer,col_indexer] = value instead\n",
            "\n",
            "See the caveats in the documentation: https://pandas.pydata.org/pandas-docs/stable/user_guide/indexing.html#returning-a-view-versus-a-copy\n",
            "  data['InvoiceDate'] = pd.to_datetime(data['InvoiceDate'], errors='coerce')\n",
            "<ipython-input-7-8c1cfbff24f6>:42: SettingWithCopyWarning: \n",
            "A value is trying to be set on a copy of a slice from a DataFrame\n",
            "\n",
            "See the caveats in the documentation: https://pandas.pydata.org/pandas-docs/stable/user_guide/indexing.html#returning-a-view-versus-a-copy\n",
            "  data.dropna(subset=['InvoiceDate', 'Quantity', 'Price'], inplace=True)\n",
            "/usr/local/lib/python3.10/dist-packages/statsmodels/base/model.py:607: ConvergenceWarning: Maximum Likelihood optimization failed to converge. Check mle_retvals\n",
            "  warnings.warn(\"Maximum Likelihood optimization failed to \"\n",
            "/usr/local/lib/python3.10/dist-packages/keras/src/layers/rnn/rnn.py:204: UserWarning: Do not pass an `input_shape`/`input_dim` argument to a layer. When using Sequential models, prefer using an `Input(shape)` object as the first layer in the model instead.\n",
            "  super().__init__(**kwargs)\n"
          ]
        },
        {
          "output_type": "stream",
          "name": "stdout",
          "text": [
            "\u001b[1m1/1\u001b[0m \u001b[32m━━━━━━━━━━━━━━━━━━━━\u001b[0m\u001b[37m\u001b[0m \u001b[1m0s\u001b[0m 254ms/step\n"
          ]
        },
        {
          "output_type": "stream",
          "name": "stderr",
          "text": [
            "<ipython-input-7-8c1cfbff24f6>:41: SettingWithCopyWarning: \n",
            "A value is trying to be set on a copy of a slice from a DataFrame.\n",
            "Try using .loc[row_indexer,col_indexer] = value instead\n",
            "\n",
            "See the caveats in the documentation: https://pandas.pydata.org/pandas-docs/stable/user_guide/indexing.html#returning-a-view-versus-a-copy\n",
            "  data['InvoiceDate'] = pd.to_datetime(data['InvoiceDate'], errors='coerce')\n",
            "<ipython-input-7-8c1cfbff24f6>:42: SettingWithCopyWarning: \n",
            "A value is trying to be set on a copy of a slice from a DataFrame\n",
            "\n",
            "See the caveats in the documentation: https://pandas.pydata.org/pandas-docs/stable/user_guide/indexing.html#returning-a-view-versus-a-copy\n",
            "  data.dropna(subset=['InvoiceDate', 'Quantity', 'Price'], inplace=True)\n",
            "/usr/local/lib/python3.10/dist-packages/keras/src/layers/rnn/rnn.py:204: UserWarning: Do not pass an `input_shape`/`input_dim` argument to a layer. When using Sequential models, prefer using an `Input(shape)` object as the first layer in the model instead.\n",
            "  super().__init__(**kwargs)\n"
          ]
        },
        {
          "output_type": "stream",
          "name": "stdout",
          "text": [
            "\u001b[1m1/1\u001b[0m \u001b[32m━━━━━━━━━━━━━━━━━━━━\u001b[0m\u001b[37m\u001b[0m \u001b[1m0s\u001b[0m 253ms/step\n"
          ]
        },
        {
          "output_type": "stream",
          "name": "stderr",
          "text": [
            "<ipython-input-7-8c1cfbff24f6>:41: SettingWithCopyWarning: \n",
            "A value is trying to be set on a copy of a slice from a DataFrame.\n",
            "Try using .loc[row_indexer,col_indexer] = value instead\n",
            "\n",
            "See the caveats in the documentation: https://pandas.pydata.org/pandas-docs/stable/user_guide/indexing.html#returning-a-view-versus-a-copy\n",
            "  data['InvoiceDate'] = pd.to_datetime(data['InvoiceDate'], errors='coerce')\n",
            "<ipython-input-7-8c1cfbff24f6>:42: SettingWithCopyWarning: \n",
            "A value is trying to be set on a copy of a slice from a DataFrame\n",
            "\n",
            "See the caveats in the documentation: https://pandas.pydata.org/pandas-docs/stable/user_guide/indexing.html#returning-a-view-versus-a-copy\n",
            "  data.dropna(subset=['InvoiceDate', 'Quantity', 'Price'], inplace=True)\n",
            "/usr/local/lib/python3.10/dist-packages/statsmodels/tsa/holtwinters/model.py:918: ConvergenceWarning: Optimization failed to converge. Check mle_retvals.\n",
            "  warnings.warn(\n",
            "/usr/local/lib/python3.10/dist-packages/keras/src/layers/rnn/rnn.py:204: UserWarning: Do not pass an `input_shape`/`input_dim` argument to a layer. When using Sequential models, prefer using an `Input(shape)` object as the first layer in the model instead.\n",
            "  super().__init__(**kwargs)\n"
          ]
        },
        {
          "output_type": "stream",
          "name": "stdout",
          "text": [
            "\u001b[1m1/1\u001b[0m \u001b[32m━━━━━━━━━━━━━━━━━━━━\u001b[0m\u001b[37m\u001b[0m \u001b[1m0s\u001b[0m 241ms/step\n"
          ]
        },
        {
          "output_type": "stream",
          "name": "stderr",
          "text": [
            "<ipython-input-7-8c1cfbff24f6>:41: SettingWithCopyWarning: \n",
            "A value is trying to be set on a copy of a slice from a DataFrame.\n",
            "Try using .loc[row_indexer,col_indexer] = value instead\n",
            "\n",
            "See the caveats in the documentation: https://pandas.pydata.org/pandas-docs/stable/user_guide/indexing.html#returning-a-view-versus-a-copy\n",
            "  data['InvoiceDate'] = pd.to_datetime(data['InvoiceDate'], errors='coerce')\n",
            "<ipython-input-7-8c1cfbff24f6>:42: SettingWithCopyWarning: \n",
            "A value is trying to be set on a copy of a slice from a DataFrame\n",
            "\n",
            "See the caveats in the documentation: https://pandas.pydata.org/pandas-docs/stable/user_guide/indexing.html#returning-a-view-versus-a-copy\n",
            "  data.dropna(subset=['InvoiceDate', 'Quantity', 'Price'], inplace=True)\n",
            "/usr/local/lib/python3.10/dist-packages/statsmodels/tsa/statespace/sarimax.py:966: UserWarning: Non-stationary starting autoregressive parameters found. Using zeros as starting parameters.\n",
            "  warn('Non-stationary starting autoregressive parameters'\n",
            "/usr/local/lib/python3.10/dist-packages/statsmodels/base/model.py:607: ConvergenceWarning: Maximum Likelihood optimization failed to converge. Check mle_retvals\n",
            "  warnings.warn(\"Maximum Likelihood optimization failed to \"\n",
            "/usr/local/lib/python3.10/dist-packages/statsmodels/tsa/holtwinters/model.py:918: ConvergenceWarning: Optimization failed to converge. Check mle_retvals.\n",
            "  warnings.warn(\n",
            "/usr/local/lib/python3.10/dist-packages/keras/src/layers/rnn/rnn.py:204: UserWarning: Do not pass an `input_shape`/`input_dim` argument to a layer. When using Sequential models, prefer using an `Input(shape)` object as the first layer in the model instead.\n",
            "  super().__init__(**kwargs)\n"
          ]
        },
        {
          "output_type": "stream",
          "name": "stdout",
          "text": [
            "\u001b[1m1/1\u001b[0m \u001b[32m━━━━━━━━━━━━━━━━━━━━\u001b[0m\u001b[37m\u001b[0m \u001b[1m0s\u001b[0m 256ms/step\n"
          ]
        },
        {
          "output_type": "stream",
          "name": "stderr",
          "text": [
            "<ipython-input-7-8c1cfbff24f6>:41: SettingWithCopyWarning: \n",
            "A value is trying to be set on a copy of a slice from a DataFrame.\n",
            "Try using .loc[row_indexer,col_indexer] = value instead\n",
            "\n",
            "See the caveats in the documentation: https://pandas.pydata.org/pandas-docs/stable/user_guide/indexing.html#returning-a-view-versus-a-copy\n",
            "  data['InvoiceDate'] = pd.to_datetime(data['InvoiceDate'], errors='coerce')\n",
            "<ipython-input-7-8c1cfbff24f6>:42: SettingWithCopyWarning: \n",
            "A value is trying to be set on a copy of a slice from a DataFrame\n",
            "\n",
            "See the caveats in the documentation: https://pandas.pydata.org/pandas-docs/stable/user_guide/indexing.html#returning-a-view-versus-a-copy\n",
            "  data.dropna(subset=['InvoiceDate', 'Quantity', 'Price'], inplace=True)\n",
            "/usr/local/lib/python3.10/dist-packages/statsmodels/tsa/statespace/sarimax.py:966: UserWarning: Non-stationary starting autoregressive parameters found. Using zeros as starting parameters.\n",
            "  warn('Non-stationary starting autoregressive parameters'\n",
            "/usr/local/lib/python3.10/dist-packages/keras/src/layers/rnn/rnn.py:204: UserWarning: Do not pass an `input_shape`/`input_dim` argument to a layer. When using Sequential models, prefer using an `Input(shape)` object as the first layer in the model instead.\n",
            "  super().__init__(**kwargs)\n"
          ]
        },
        {
          "output_type": "stream",
          "name": "stdout",
          "text": [
            "\u001b[1m1/1\u001b[0m \u001b[32m━━━━━━━━━━━━━━━━━━━━\u001b[0m\u001b[37m\u001b[0m \u001b[1m0s\u001b[0m 250ms/step\n"
          ]
        },
        {
          "output_type": "stream",
          "name": "stderr",
          "text": [
            "<ipython-input-7-8c1cfbff24f6>:41: SettingWithCopyWarning: \n",
            "A value is trying to be set on a copy of a slice from a DataFrame.\n",
            "Try using .loc[row_indexer,col_indexer] = value instead\n",
            "\n",
            "See the caveats in the documentation: https://pandas.pydata.org/pandas-docs/stable/user_guide/indexing.html#returning-a-view-versus-a-copy\n",
            "  data['InvoiceDate'] = pd.to_datetime(data['InvoiceDate'], errors='coerce')\n",
            "<ipython-input-7-8c1cfbff24f6>:42: SettingWithCopyWarning: \n",
            "A value is trying to be set on a copy of a slice from a DataFrame\n",
            "\n",
            "See the caveats in the documentation: https://pandas.pydata.org/pandas-docs/stable/user_guide/indexing.html#returning-a-view-versus-a-copy\n",
            "  data.dropna(subset=['InvoiceDate', 'Quantity', 'Price'], inplace=True)\n",
            "/usr/local/lib/python3.10/dist-packages/statsmodels/tsa/statespace/sarimax.py:966: UserWarning: Non-stationary starting autoregressive parameters found. Using zeros as starting parameters.\n",
            "  warn('Non-stationary starting autoregressive parameters'\n",
            "/usr/local/lib/python3.10/dist-packages/keras/src/layers/rnn/rnn.py:204: UserWarning: Do not pass an `input_shape`/`input_dim` argument to a layer. When using Sequential models, prefer using an `Input(shape)` object as the first layer in the model instead.\n",
            "  super().__init__(**kwargs)\n"
          ]
        },
        {
          "output_type": "stream",
          "name": "stdout",
          "text": [
            "\u001b[1m1/1\u001b[0m \u001b[32m━━━━━━━━━━━━━━━━━━━━\u001b[0m\u001b[37m\u001b[0m \u001b[1m0s\u001b[0m 268ms/step\n"
          ]
        },
        {
          "output_type": "stream",
          "name": "stderr",
          "text": [
            "<ipython-input-7-8c1cfbff24f6>:41: SettingWithCopyWarning: \n",
            "A value is trying to be set on a copy of a slice from a DataFrame.\n",
            "Try using .loc[row_indexer,col_indexer] = value instead\n",
            "\n",
            "See the caveats in the documentation: https://pandas.pydata.org/pandas-docs/stable/user_guide/indexing.html#returning-a-view-versus-a-copy\n",
            "  data['InvoiceDate'] = pd.to_datetime(data['InvoiceDate'], errors='coerce')\n",
            "<ipython-input-7-8c1cfbff24f6>:42: SettingWithCopyWarning: \n",
            "A value is trying to be set on a copy of a slice from a DataFrame\n",
            "\n",
            "See the caveats in the documentation: https://pandas.pydata.org/pandas-docs/stable/user_guide/indexing.html#returning-a-view-versus-a-copy\n",
            "  data.dropna(subset=['InvoiceDate', 'Quantity', 'Price'], inplace=True)\n",
            "/usr/local/lib/python3.10/dist-packages/statsmodels/tsa/statespace/sarimax.py:966: UserWarning: Non-stationary starting autoregressive parameters found. Using zeros as starting parameters.\n",
            "  warn('Non-stationary starting autoregressive parameters'\n",
            "/usr/local/lib/python3.10/dist-packages/keras/src/layers/rnn/rnn.py:204: UserWarning: Do not pass an `input_shape`/`input_dim` argument to a layer. When using Sequential models, prefer using an `Input(shape)` object as the first layer in the model instead.\n",
            "  super().__init__(**kwargs)\n"
          ]
        },
        {
          "output_type": "stream",
          "name": "stdout",
          "text": [
            "\u001b[1m1/1\u001b[0m \u001b[32m━━━━━━━━━━━━━━━━━━━━\u001b[0m\u001b[37m\u001b[0m \u001b[1m0s\u001b[0m 243ms/step\n",
            "   StockCode          Model         RMSE          MAE\n",
            "0      84077          ARIMA  1866.727938  1294.552633\n",
            "1      84077            ETS  1710.277335  1276.587993\n",
            "2      84077           LSTM  1801.688927  1149.729348\n",
            "3      84077  Decision Tree   217.315865    56.970221\n",
            "4      84077        XGBoost   217.315871    56.970217\n",
            "5     85123A          ARIMA   449.649815   316.186773\n",
            "6     85123A            ETS   367.158425   273.317209\n",
            "7     85123A           LSTM   420.333041   334.332499\n",
            "8     85123A  Decision Tree    30.306084    10.458914\n",
            "9     85123A        XGBoost    30.306083    10.458917\n",
            "10    85099B          ARIMA   744.857674   597.183685\n",
            "11    85099B            ETS   532.318438   436.994533\n",
            "12    85099B           LSTM   661.783615   494.869968\n",
            "13    85099B  Decision Tree    47.922620    13.992879\n",
            "14    85099B        XGBoost    47.922622    13.992879\n",
            "15     21212          ARIMA   840.751232   705.725043\n",
            "16     21212            ETS   729.638885   529.912116\n",
            "17     21212           LSTM   494.011251   396.650336\n",
            "18     21212  Decision Tree    56.361882    20.534824\n",
            "19     21212        XGBoost    56.361891    20.534824\n",
            "20     84879          ARIMA  1521.928680   817.048228\n",
            "21     84879            ETS  1379.421898   850.735887\n",
            "22     84879           LSTM  1820.434295  1059.583299\n",
            "23     84879  Decision Tree   106.380325    21.699356\n",
            "24     84879        XGBoost   106.380320    21.699354\n",
            "25     22197          ARIMA  1421.157779   937.177418\n",
            "26     22197            ETS  1452.331211   958.766733\n",
            "27     22197           LSTM  1331.610183   888.709317\n",
            "28     22197  Decision Tree   532.091632    61.501384\n",
            "29     22197        XGBoost   532.091639    61.501384\n",
            "30     17003          ARIMA  3307.965074  2760.521691\n",
            "31     17003            ETS  2219.102913  1689.973620\n",
            "32     17003           LSTM  2118.585730  1162.144545\n",
            "33     17003  Decision Tree   455.831002   117.427006\n",
            "34     17003        XGBoost   455.831169   117.427046\n",
            "35     21977          ARIMA   242.342986   184.728797\n",
            "36     21977            ETS   329.504401   268.675050\n",
            "37     21977           LSTM   261.889691   197.949951\n",
            "38     21977  Decision Tree    39.747676    17.833564\n",
            "39     21977        XGBoost    39.747561    17.833501\n",
            "40     84991          ARIMA   292.634315   237.184656\n",
            "41     84991            ETS   311.732323   250.402637\n",
            "42     84991           LSTM   253.036238   189.919902\n",
            "43     84991  Decision Tree    27.538393    13.569797\n",
            "44     84991        XGBoost    27.538398    13.569796\n",
            "45     22492          ARIMA   498.018918   342.143041\n",
            "46     22492            ETS   370.393219   268.751011\n",
            "47     22492           LSTM   481.120982   274.340515\n",
            "48     22492  Decision Tree   134.796779    36.448398\n",
            "49     22492        XGBoost   134.796777    36.448394\n"
          ]
        }
      ],
      "source": [
        "import pandas as pd\n",
        "import numpy as np\n",
        "from statsmodels.tsa.arima.model import ARIMA\n",
        "from prophet import Prophet\n",
        "from statsmodels.tsa.holtwinters import ExponentialSmoothing\n",
        "from sklearn.metrics import mean_absolute_error, mean_squared_error\n",
        "from sklearn.model_selection import train_test_split\n",
        "from keras.models import Sequential\n",
        "from keras.layers import LSTM, Dense\n",
        "from sklearn.preprocessing import MinMaxScaler\n",
        "from sklearn.tree import DecisionTreeRegressor\n",
        "from xgboost import XGBRegressor\n",
        "\n",
        "# Load the transactional data\n",
        "transactional_data_1 = pd.read_csv('Transactional_data_retail_01.csv')\n",
        "transactional_data_2 = pd.read_csv('Transactional_data_retail_02.csv')\n",
        "\n",
        "# Concatenate the two transactional datasets\n",
        "transactional_data = pd.concat([transactional_data_1, transactional_data_2])\n",
        "\n",
        "# Group by StockCode and sum the Quantity sold\n",
        "top_stock_codes = transactional_data.groupby('StockCode')['Quantity'].sum().reset_index()\n",
        "top_10_stock_codes = top_stock_codes.sort_values(by='Quantity', ascending=False).head(10)['StockCode']\n",
        "\n",
        "# Calculate revenue for each transaction (Quantity * Price)\n",
        "transactional_data['Revenue'] = transactional_data['Quantity'] * transactional_data['Price']\n",
        "\n",
        "# Set up the DataFrame to store results\n",
        "results = pd.DataFrame(columns=['StockCode', 'Model', 'RMSE', 'MAE'])\n",
        "\n",
        "# Function to calculate evaluation metrics\n",
        "def evaluate_forecast(actual, forecast):\n",
        "    rmse = np.sqrt(mean_squared_error(actual, forecast))\n",
        "    mae = mean_absolute_error(actual, forecast)\n",
        "    return rmse, mae\n",
        "\n",
        "# Iterate over top 10 stock codes\n",
        "for stock_code in top_10_stock_codes:\n",
        "    # Preprocess data for time series\n",
        "    data = transactional_data[transactional_data['StockCode'] == stock_code]\n",
        "    data['InvoiceDate'] = pd.to_datetime(data['InvoiceDate'], errors='coerce')\n",
        "    data.dropna(subset=['InvoiceDate', 'Quantity', 'Price'], inplace=True)\n",
        "    data.set_index('InvoiceDate', inplace=True)\n",
        "\n",
        "    # Group by week\n",
        "    ts_data = data['Quantity'].resample('W').sum()\n",
        "\n",
        "    # Split data into train (80%) and test (20%)\n",
        "    train_size = int(len(ts_data) * 0.8)\n",
        "    train_data, test_data = ts_data[:train_size], ts_data[train_size:]\n",
        "\n",
        "    # ARIMA Model\n",
        "    try:\n",
        "        arima_model = ARIMA(train_data, order=(15, 1, 0))\n",
        "        arima_fit = arima_model.fit()\n",
        "        forecast_arima = arima_fit.forecast(steps=len(test_data))\n",
        "        rmse_arima, mae_arima = evaluate_forecast(test_data, forecast_arima)\n",
        "        results = pd.concat([results, pd.DataFrame({'StockCode': [stock_code], 'Model': ['ARIMA'], 'RMSE': [rmse_arima], 'MAE': [mae_arima]})], ignore_index=True)\n",
        "    except Exception as e:\n",
        "        print(f\"ARIMA failed for {stock_code}: {e}\")\n",
        "\n",
        "    # ETS Model\n",
        "    try:\n",
        "        ets_model = ExponentialSmoothing(train_data, trend='add', seasonal=None)\n",
        "        ets_fit = ets_model.fit()\n",
        "        forecast_ets = ets_fit.forecast(steps=len(test_data))\n",
        "        rmse_ets, mae_ets = evaluate_forecast(test_data, forecast_ets)\n",
        "        results = pd.concat([results, pd.DataFrame({'StockCode': [stock_code], 'Model': ['ETS'], 'RMSE': [rmse_ets], 'MAE': [mae_ets]})], ignore_index=True)\n",
        "    except Exception as e:\n",
        "        print(f\"ETS failed for {stock_code}: {e}\")\n",
        "\n",
        "\n",
        "    # LSTM Model\n",
        "    lstm_data = train_data.values.reshape(-1, 1)\n",
        "    scaler = MinMaxScaler(feature_range=(0, 1))\n",
        "    train_scaled = scaler.fit_transform(lstm_data)\n",
        "\n",
        "    # Prepare data for LSTM model\n",
        "    def create_dataset(dataset, look_back=1):\n",
        "        X, Y = [], []\n",
        "        for i in range(len(dataset) - look_back - 1):\n",
        "            a = dataset[i:(i + look_back), 0]\n",
        "            X.append(a)\n",
        "            Y.append(dataset[i + look_back, 0])\n",
        "        return np.array(X), np.array(Y)\n",
        "\n",
        "    look_back = 1\n",
        "    X_train, Y_train = create_dataset(train_scaled, look_back)\n",
        "    X_train = np.reshape(X_train, (X_train.shape[0], X_train.shape[1], 1))\n",
        "\n",
        "    # Define and train LSTM model\n",
        "    lstm_model = Sequential()\n",
        "    lstm_model.add(LSTM(50, input_shape=(look_back, 1)))\n",
        "    lstm_model.add(Dense(1))\n",
        "    lstm_model.compile(loss='mean_squared_error', optimizer='adam')\n",
        "    lstm_model.fit(X_train, Y_train, epochs=20, batch_size=1, verbose=0)\n",
        "\n",
        "    # Prepare test data for LSTM\n",
        "    test_lstm_data = test_data.values.reshape(-1, 1)\n",
        "    test_scaled = scaler.transform(test_lstm_data)\n",
        "    X_test, Y_test = create_dataset(test_scaled, look_back)\n",
        "    X_test = np.reshape(X_test, (X_test.shape[0], X_test.shape[1], 1))\n",
        "\n",
        "    # Predict using LSTM\n",
        "    lstm_predict = lstm_model.predict(X_test)\n",
        "    lstm_predict = scaler.inverse_transform(lstm_predict)\n",
        "    rmse_lstm, mae_lstm = evaluate_forecast(test_data[-len(lstm_predict):], lstm_predict)\n",
        "    results = pd.concat([results, pd.DataFrame({'StockCode': [stock_code], 'Model': ['LSTM'], 'RMSE': [rmse_lstm], 'MAE': [mae_lstm]})], ignore_index=True)\n",
        "\n",
        "    # Non-Time Series Techniques\n",
        "    customer_data = pd.read_csv('CustomerDemographics.csv')\n",
        "    product_data = pd.read_csv('ProductInfo.csv')\n",
        "\n",
        "    # Merge with transactional data\n",
        "    full_data = pd.merge(data.reset_index(), customer_data, on='Customer ID', how='left')\n",
        "    full_data = pd.merge(full_data, product_data, on='StockCode', how='left')\n",
        "\n",
        "    # Features for prediction\n",
        "    X = full_data[['Price']]\n",
        "    y = full_data['Quantity']\n",
        "\n",
        "    # Train-test split\n",
        "    X_train_non_ts, X_test_non_ts, y_train_non_ts, y_test_non_ts = train_test_split(X, y, test_size=0.2, random_state=42)\n",
        "\n",
        "    # Decision Tree Model\n",
        "    tree_model = DecisionTreeRegressor()\n",
        "    tree_model.fit(X_train_non_ts, y_train_non_ts)\n",
        "    y_pred_tree = tree_model.predict(X_test_non_ts)\n",
        "    rmse_tree, mae_tree = evaluate_forecast(y_test_non_ts, y_pred_tree)\n",
        "    results = pd.concat([results, pd.DataFrame({'StockCode': [stock_code], 'Model': ['Decision Tree'], 'RMSE': [rmse_tree], 'MAE': [mae_tree]})], ignore_index=True)\n",
        "\n",
        "    # XGBoost Model\n",
        "    xgb_model = XGBRegressor()\n",
        "    xgb_model.fit(X_train_non_ts, y_train_non_ts)\n",
        "    y_pred_xgb = xgb_model.predict(X_test_non_ts)\n",
        "    rmse_xgb, mae_xgb = evaluate_forecast(y_test_non_ts, y_pred_xgb)\n",
        "    results = pd.concat([results, pd.DataFrame({'StockCode': [stock_code], 'Model': ['XGBoost'], 'RMSE': [rmse_xgb], 'MAE': [mae_xgb]})], ignore_index=True)\n",
        "\n",
        "# Display results DataFrame\n",
        "print(results)\n"
      ]
    }
  ]
}